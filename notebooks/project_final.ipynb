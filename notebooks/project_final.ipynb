{
 "cells": [
  {
   "cell_type": "markdown",
   "metadata": {
    "collapsed": true,
    "id": "dfJtyp5Kefgy",
    "jupyter": {
     "outputs_hidden": true
    }
   },
   "source": [
    "\n",
    "# **VizEmo** \n",
    "# Deep Learning Final project, Spring 2025"
   ]
  },
  {
   "cell_type": "code",
   "execution_count": null,
   "metadata": {
    "id": "e9wH5bYVefhA"
   },
   "outputs": [],
   "source": [
    "# Just run this block. Please do not modify the following code.\n",
    "# import math\n",
    "# import time\n",
    "# import io\n",
    "# import numpy as np\n",
    "# import csv\n",
    "# from IPython.display import Image\n",
    "\n",
    "# # Pytorch package\n",
    "# import torch\n",
    "# import torch.nn as nn\n",
    "# import torch.optim as optim\n",
    "\n",
    "# from torch.utils.data import DataLoader\n",
    "# from collections import Counter\n",
    "# from torch.nn.utils.rnn import pad_sequence\n",
    "\n",
    "# # Tqdm progress bar\n",
    "# from tqdm import tqdm_notebook, tqdm\n",
    "\n",
    "# # Code provide to you for training and evaluation\n",
    "# from utils import train, evaluate, set_seed_nb, unit_test_values, deterministic_init, plot_curves\n",
    "\n",
    "# # for auto-reloading external modules\n",
    "# # see http://stackoverflow.com/questions/1907993/autoreload-of-modules-in-ipython\n",
    "# %load_ext autoreload\n",
    "# %autoreload 2"
   ]
  }
 ],
 "metadata": {
  "accelerator": "GPU",
  "colab": {
   "collapsed_sections": [
    "dfJtyp5Kefgy",
    "tmSlhfxwefg9",
    "O66UKOZnefg_",
    "FDmu06h_efhI",
    "l6yEbmAxefhR",
    "cTkd6oseefhS",
    "zZwBWMZzefhU",
    "v7zKygJLefhW",
    "oUL7qUZKefhW",
    "o7XOnp0LefhX",
    "fBXsJFeTefhZ",
    "XYB7O3D1efha",
    "_VzSCxdPefhd",
    "qVs0KDP0efhe",
    "z-S4wWKRefhe",
    "N49WZFwdefhf",
    "CPrD-eJoefhg",
    "aS0afPPDefhh",
    "-oU3skwOefhi",
    "KqV-7w2wefhj",
    "pr_Ehyqvefhk",
    "RcS_FVV7efhk"
   ],
   "gpuType": "T4",
   "machine_shape": "hm",
   "provenance": []
  },
  "interpreter": {
   "hash": "0e75f62e3678e2cc45ba815b06d45149f3ef8e725365fb50a06024c1d0abc38d"
  },
  "kernelspec": {
   "display_name": "Python [conda env:cs7643-a2]",
   "language": "python",
   "name": "conda-env-cs7643-a2-py"
  },
  "language_info": {
   "codemirror_mode": {
    "name": "ipython",
    "version": 3
   },
   "file_extension": ".py",
   "mimetype": "text/x-python",
   "name": "python",
   "nbconvert_exporter": "python",
   "pygments_lexer": "ipython3",
   "version": "3.12.0"
  }
 },
 "nbformat": 4,
 "nbformat_minor": 4
}
